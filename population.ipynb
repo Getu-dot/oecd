{
 "cells": [
  {
   "cell_type": "code",
   "execution_count": 140,
   "metadata": {},
   "outputs": [],
   "source": [
    "# import libraries\n",
    "import pandas as pd\n",
    "import datetime as dt\n",
    "import pandas_datareader.data as web"
   ]
  },
  {
   "cell_type": "code",
   "execution_count": 143,
   "metadata": {},
   "outputs": [],
   "source": [
    "\n",
    "def oecd_data_to_df(name, data_source, start_time, end_time):\n",
    "    df_raw = web.DataReader(name, source, start_time, end_time)\n",
    "    return df_raw\n",
    "\n",
    "def shaping_data(df_raw):\n",
    "    levels = sample_data.columns.names\n",
    "    df = sample_data.stack(level=levels).reset_index()\n",
    "    df.rename(columns = {0:'population'}, inplace = True)\n",
    "    return df\n"
   ]
  },
  {
   "cell_type": "code",
   "execution_count": 146,
   "metadata": {},
   "outputs": [],
   "source": [
    "# pulling raw data\n",
    "start_time = dt.datetime(1990, 1, 1)\n",
    "end_time = dt.datetime(2021, 12, 31)\n",
    "df_raw = oecd_data_to_df('HISTPOP', 'oecd', start_time, end_time)\n",
    "\n",
    "df_raw = shaping_data(df_raw)\n",
    "\n",
    "# filtering data - removing aggregate rows\n",
    "sex = ['Men', 'Women']\n",
    "age = ['0 to 4','5 to 9','10 to 14','15 to 19',\t'20 to 24',\t'25 to 29',\t'30 to 34','35 to 39','40 to 44','45 to 49','50 to 54','55 to 59','60 to 64','65 to 69','70 to 74','75 to 79','80 to 84','85 and over'\n",
    "]\n",
    "\n",
    "df_raw = df_raw.loc[(df_raw['Sex'].isin(sex))& (df_raw['Age'].isin(age))]\n",
    "# df_raw.set_index(['Time', 'Country', 'Sex', 'Age'], inplace = True)"
   ]
  },
  {
   "cell_type": "code",
   "execution_count": 149,
   "metadata": {},
   "outputs": [
    {
     "data": {
      "text/html": [
       "<div>\n",
       "<style scoped>\n",
       "    .dataframe tbody tr th:only-of-type {\n",
       "        vertical-align: middle;\n",
       "    }\n",
       "\n",
       "    .dataframe tbody tr th {\n",
       "        vertical-align: top;\n",
       "    }\n",
       "\n",
       "    .dataframe thead th {\n",
       "        text-align: right;\n",
       "    }\n",
       "</style>\n",
       "<table border=\"1\" class=\"dataframe\">\n",
       "  <thead>\n",
       "    <tr style=\"text-align: right;\">\n",
       "      <th></th>\n",
       "      <th>Time</th>\n",
       "      <th>Country</th>\n",
       "      <th>Sex</th>\n",
       "      <th>Age</th>\n",
       "      <th>population</th>\n",
       "    </tr>\n",
       "  </thead>\n",
       "  <tbody>\n",
       "    <tr>\n",
       "      <th>0</th>\n",
       "      <td>1990-01-01</td>\n",
       "      <td>Argentina</td>\n",
       "      <td>Men</td>\n",
       "      <td>0 to 4</td>\n",
       "      <td>1725576.0</td>\n",
       "    </tr>\n",
       "    <tr>\n",
       "      <th>1</th>\n",
       "      <td>1990-01-01</td>\n",
       "      <td>Argentina</td>\n",
       "      <td>Men</td>\n",
       "      <td>10 to 14</td>\n",
       "      <td>1688890.0</td>\n",
       "    </tr>\n",
       "    <tr>\n",
       "      <th>2</th>\n",
       "      <td>1990-01-01</td>\n",
       "      <td>Argentina</td>\n",
       "      <td>Men</td>\n",
       "      <td>15 to 19</td>\n",
       "      <td>1415238.0</td>\n",
       "    </tr>\n",
       "    <tr>\n",
       "      <th>3</th>\n",
       "      <td>1990-01-01</td>\n",
       "      <td>Argentina</td>\n",
       "      <td>Men</td>\n",
       "      <td>20 to 24</td>\n",
       "      <td>1242906.0</td>\n",
       "    </tr>\n",
       "    <tr>\n",
       "      <th>4</th>\n",
       "      <td>1990-01-01</td>\n",
       "      <td>Argentina</td>\n",
       "      <td>Men</td>\n",
       "      <td>25 to 29</td>\n",
       "      <td>1167355.0</td>\n",
       "    </tr>\n",
       "  </tbody>\n",
       "</table>\n",
       "</div>"
      ],
      "text/plain": [
       "        Time    Country  Sex       Age  population\n",
       "0 1990-01-01  Argentina  Men    0 to 4   1725576.0\n",
       "1 1990-01-01  Argentina  Men  10 to 14   1688890.0\n",
       "2 1990-01-01  Argentina  Men  15 to 19   1415238.0\n",
       "3 1990-01-01  Argentina  Men  20 to 24   1242906.0\n",
       "4 1990-01-01  Argentina  Men  25 to 29   1167355.0"
      ]
     },
     "execution_count": 149,
     "metadata": {},
     "output_type": "execute_result"
    }
   ],
   "source": [
    "df_raw.reset_index(inplace=True)\n",
    "df_raw.head()\n"
   ]
  }
 ],
 "metadata": {
  "kernelspec": {
   "display_name": "env",
   "language": "python",
   "name": "python3"
  },
  "language_info": {
   "codemirror_mode": {
    "name": "ipython",
    "version": 3
   },
   "file_extension": ".py",
   "mimetype": "text/x-python",
   "name": "python",
   "nbconvert_exporter": "python",
   "pygments_lexer": "ipython3",
   "version": "3.8.5"
  },
  "orig_nbformat": 4,
  "vscode": {
   "interpreter": {
    "hash": "0ab6e23ebe980d22c4c6cddb8581d665bdfe83b7a1a49a71ab3100cd1ced48b5"
   }
  }
 },
 "nbformat": 4,
 "nbformat_minor": 2
}
